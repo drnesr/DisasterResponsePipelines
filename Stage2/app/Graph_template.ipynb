{
 "cells": [
  {
   "cell_type": "code",
   "execution_count": 1,
   "metadata": {
    "ExecuteTime": {
     "end_time": "2019-01-27T10:22:50.327882Z",
     "start_time": "2019-01-27T10:22:45.721664Z"
    }
   },
   "outputs": [],
   "source": [
    "import json\n",
    "import plotly\n",
    "import pandas as pd\n",
    "\n",
    "# from nltk.stem import WordNetLemmatizer\n",
    "# from nltk.tokenize import word_tokenize\n",
    "\n",
    "# from flask import Flask\n",
    "# from flask import render_template, request, jsonify\n",
    "from plotly.graph_objs import Bar\n",
    "from sklearn.externals import joblib\n",
    "from sqlalchemy import create_engine"
   ]
  },
  {
   "cell_type": "code",
   "execution_count": 2,
   "metadata": {
    "ExecuteTime": {
     "end_time": "2019-01-27T10:22:51.033682Z",
     "start_time": "2019-01-27T10:22:50.329892Z"
    }
   },
   "outputs": [
    {
     "data": {
      "text/html": [
       "<div>\n",
       "<style scoped>\n",
       "    .dataframe tbody tr th:only-of-type {\n",
       "        vertical-align: middle;\n",
       "    }\n",
       "\n",
       "    .dataframe tbody tr th {\n",
       "        vertical-align: top;\n",
       "    }\n",
       "\n",
       "    .dataframe thead th {\n",
       "        text-align: right;\n",
       "    }\n",
       "</style>\n",
       "<table border=\"1\" class=\"dataframe\">\n",
       "  <thead>\n",
       "    <tr style=\"text-align: right;\">\n",
       "      <th></th>\n",
       "      <th>id</th>\n",
       "      <th>message</th>\n",
       "      <th>original</th>\n",
       "      <th>genre</th>\n",
       "      <th>related</th>\n",
       "      <th>request</th>\n",
       "      <th>offer</th>\n",
       "      <th>aid_related</th>\n",
       "      <th>medical_help</th>\n",
       "      <th>medical_products</th>\n",
       "      <th>...</th>\n",
       "      <th>aid_centers</th>\n",
       "      <th>other_infrastructure</th>\n",
       "      <th>weather_related</th>\n",
       "      <th>floods</th>\n",
       "      <th>storm</th>\n",
       "      <th>fire</th>\n",
       "      <th>earthquake</th>\n",
       "      <th>cold</th>\n",
       "      <th>other_weather</th>\n",
       "      <th>direct_report</th>\n",
       "    </tr>\n",
       "  </thead>\n",
       "  <tbody>\n",
       "    <tr>\n",
       "      <th>0</th>\n",
       "      <td>2</td>\n",
       "      <td>Weather update - a cold front from Cuba that c...</td>\n",
       "      <td>Un front froid se retrouve sur Cuba ce matin. ...</td>\n",
       "      <td>direct</td>\n",
       "      <td>1</td>\n",
       "      <td>0</td>\n",
       "      <td>0</td>\n",
       "      <td>0</td>\n",
       "      <td>0</td>\n",
       "      <td>0</td>\n",
       "      <td>...</td>\n",
       "      <td>0</td>\n",
       "      <td>0</td>\n",
       "      <td>0</td>\n",
       "      <td>0</td>\n",
       "      <td>0</td>\n",
       "      <td>0</td>\n",
       "      <td>0</td>\n",
       "      <td>0</td>\n",
       "      <td>0</td>\n",
       "      <td>0</td>\n",
       "    </tr>\n",
       "    <tr>\n",
       "      <th>1</th>\n",
       "      <td>7</td>\n",
       "      <td>Is the Hurricane over or is it not over</td>\n",
       "      <td>Cyclone nan fini osinon li pa fini</td>\n",
       "      <td>direct</td>\n",
       "      <td>1</td>\n",
       "      <td>0</td>\n",
       "      <td>0</td>\n",
       "      <td>1</td>\n",
       "      <td>0</td>\n",
       "      <td>0</td>\n",
       "      <td>...</td>\n",
       "      <td>0</td>\n",
       "      <td>0</td>\n",
       "      <td>1</td>\n",
       "      <td>0</td>\n",
       "      <td>1</td>\n",
       "      <td>0</td>\n",
       "      <td>0</td>\n",
       "      <td>0</td>\n",
       "      <td>0</td>\n",
       "      <td>0</td>\n",
       "    </tr>\n",
       "    <tr>\n",
       "      <th>2</th>\n",
       "      <td>8</td>\n",
       "      <td>Looking for someone but no name</td>\n",
       "      <td>Patnm, di Maryani relem pou li banm nouvel li ...</td>\n",
       "      <td>direct</td>\n",
       "      <td>1</td>\n",
       "      <td>0</td>\n",
       "      <td>0</td>\n",
       "      <td>0</td>\n",
       "      <td>0</td>\n",
       "      <td>0</td>\n",
       "      <td>...</td>\n",
       "      <td>0</td>\n",
       "      <td>0</td>\n",
       "      <td>0</td>\n",
       "      <td>0</td>\n",
       "      <td>0</td>\n",
       "      <td>0</td>\n",
       "      <td>0</td>\n",
       "      <td>0</td>\n",
       "      <td>0</td>\n",
       "      <td>0</td>\n",
       "    </tr>\n",
       "    <tr>\n",
       "      <th>3</th>\n",
       "      <td>9</td>\n",
       "      <td>UN reports Leogane 80-90 destroyed. Only Hospi...</td>\n",
       "      <td>UN reports Leogane 80-90 destroyed. Only Hospi...</td>\n",
       "      <td>direct</td>\n",
       "      <td>1</td>\n",
       "      <td>1</td>\n",
       "      <td>0</td>\n",
       "      <td>1</td>\n",
       "      <td>0</td>\n",
       "      <td>1</td>\n",
       "      <td>...</td>\n",
       "      <td>0</td>\n",
       "      <td>0</td>\n",
       "      <td>0</td>\n",
       "      <td>0</td>\n",
       "      <td>0</td>\n",
       "      <td>0</td>\n",
       "      <td>0</td>\n",
       "      <td>0</td>\n",
       "      <td>0</td>\n",
       "      <td>0</td>\n",
       "    </tr>\n",
       "    <tr>\n",
       "      <th>4</th>\n",
       "      <td>12</td>\n",
       "      <td>says: west side of Haiti, rest of the country ...</td>\n",
       "      <td>facade ouest d Haiti et le reste du pays aujou...</td>\n",
       "      <td>direct</td>\n",
       "      <td>1</td>\n",
       "      <td>0</td>\n",
       "      <td>0</td>\n",
       "      <td>0</td>\n",
       "      <td>0</td>\n",
       "      <td>0</td>\n",
       "      <td>...</td>\n",
       "      <td>0</td>\n",
       "      <td>0</td>\n",
       "      <td>0</td>\n",
       "      <td>0</td>\n",
       "      <td>0</td>\n",
       "      <td>0</td>\n",
       "      <td>0</td>\n",
       "      <td>0</td>\n",
       "      <td>0</td>\n",
       "      <td>0</td>\n",
       "    </tr>\n",
       "  </tbody>\n",
       "</table>\n",
       "<p>5 rows × 40 columns</p>\n",
       "</div>"
      ],
      "text/plain": [
       "   id                                            message  \\\n",
       "0   2  Weather update - a cold front from Cuba that c...   \n",
       "1   7            Is the Hurricane over or is it not over   \n",
       "2   8                    Looking for someone but no name   \n",
       "3   9  UN reports Leogane 80-90 destroyed. Only Hospi...   \n",
       "4  12  says: west side of Haiti, rest of the country ...   \n",
       "\n",
       "                                            original   genre  related  \\\n",
       "0  Un front froid se retrouve sur Cuba ce matin. ...  direct        1   \n",
       "1                 Cyclone nan fini osinon li pa fini  direct        1   \n",
       "2  Patnm, di Maryani relem pou li banm nouvel li ...  direct        1   \n",
       "3  UN reports Leogane 80-90 destroyed. Only Hospi...  direct        1   \n",
       "4  facade ouest d Haiti et le reste du pays aujou...  direct        1   \n",
       "\n",
       "   request  offer  aid_related  medical_help  medical_products      ...        \\\n",
       "0        0      0            0             0                 0      ...         \n",
       "1        0      0            1             0                 0      ...         \n",
       "2        0      0            0             0                 0      ...         \n",
       "3        1      0            1             0                 1      ...         \n",
       "4        0      0            0             0                 0      ...         \n",
       "\n",
       "   aid_centers  other_infrastructure  weather_related  floods  storm  fire  \\\n",
       "0            0                     0                0       0      0     0   \n",
       "1            0                     0                1       0      1     0   \n",
       "2            0                     0                0       0      0     0   \n",
       "3            0                     0                0       0      0     0   \n",
       "4            0                     0                0       0      0     0   \n",
       "\n",
       "   earthquake  cold  other_weather  direct_report  \n",
       "0           0     0              0              0  \n",
       "1           0     0              0              0  \n",
       "2           0     0              0              0  \n",
       "3           0     0              0              0  \n",
       "4           0     0              0              0  \n",
       "\n",
       "[5 rows x 40 columns]"
      ]
     },
     "execution_count": 2,
     "metadata": {},
     "output_type": "execute_result"
    }
   ],
   "source": [
    "# load data\n",
    "engine = create_engine('sqlite:///../data/DisasterResponse.db')\n",
    "df = pd.read_sql_table('CategorizedMessages', engine)\n",
    "df.head()"
   ]
  },
  {
   "cell_type": "code",
   "execution_count": 3,
   "metadata": {
    "ExecuteTime": {
     "end_time": "2019-01-27T10:23:02.175740Z",
     "start_time": "2019-01-27T10:23:02.149810Z"
    }
   },
   "outputs": [],
   "source": [
    "genre_counts = df.groupby('genre').count()['message']\n",
    "genre_names = list(genre_counts.index)"
   ]
  },
  {
   "cell_type": "code",
   "execution_count": 4,
   "metadata": {
    "ExecuteTime": {
     "end_time": "2019-01-27T10:23:08.020884Z",
     "start_time": "2019-01-27T10:23:08.015898Z"
    }
   },
   "outputs": [
    {
     "data": {
      "text/plain": [
       "(genre\n",
       " direct    10766\n",
       " news      13054\n",
       " social     2396\n",
       " Name: message, dtype: int64, ['direct', 'news', 'social'])"
      ]
     },
     "execution_count": 4,
     "metadata": {},
     "output_type": "execute_result"
    }
   ],
   "source": [
    "genre_counts, genre_names"
   ]
  },
  {
   "cell_type": "code",
   "execution_count": 6,
   "metadata": {
    "ExecuteTime": {
     "end_time": "2019-01-27T10:23:25.196294Z",
     "start_time": "2019-01-27T10:23:25.193268Z"
    }
   },
   "outputs": [],
   "source": [
    "# df.groupby('genre').sum()[list(df)[4:]].T"
   ]
  },
  {
   "cell_type": "code",
   "execution_count": 8,
   "metadata": {
    "ExecuteTime": {
     "end_time": "2019-01-27T10:43:15.927707Z",
     "start_time": "2019-01-27T10:43:15.898789Z"
    }
   },
   "outputs": [
    {
     "data": {
      "text/html": [
       "<div>\n",
       "<style scoped>\n",
       "    .dataframe tbody tr th:only-of-type {\n",
       "        vertical-align: middle;\n",
       "    }\n",
       "\n",
       "    .dataframe tbody tr th {\n",
       "        vertical-align: top;\n",
       "    }\n",
       "\n",
       "    .dataframe thead th {\n",
       "        text-align: right;\n",
       "    }\n",
       "</style>\n",
       "<table border=\"1\" class=\"dataframe\">\n",
       "  <thead>\n",
       "    <tr style=\"text-align: right;\">\n",
       "      <th>genre</th>\n",
       "      <th>direct</th>\n",
       "      <th>news</th>\n",
       "      <th>social</th>\n",
       "    </tr>\n",
       "  </thead>\n",
       "  <tbody>\n",
       "    <tr>\n",
       "      <th>related</th>\n",
       "      <td>7446</td>\n",
       "      <td>10707</td>\n",
       "      <td>2129</td>\n",
       "    </tr>\n",
       "    <tr>\n",
       "      <th>request</th>\n",
       "      <td>3696</td>\n",
       "      <td>604</td>\n",
       "      <td>174</td>\n",
       "    </tr>\n",
       "    <tr>\n",
       "      <th>offer</th>\n",
       "      <td>46</td>\n",
       "      <td>65</td>\n",
       "      <td>7</td>\n",
       "    </tr>\n",
       "    <tr>\n",
       "      <th>aid_related</th>\n",
       "      <td>4338</td>\n",
       "      <td>5860</td>\n",
       "      <td>662</td>\n",
       "    </tr>\n",
       "    <tr>\n",
       "      <th>medical_help</th>\n",
       "      <td>592</td>\n",
       "      <td>1415</td>\n",
       "      <td>77</td>\n",
       "    </tr>\n",
       "    <tr>\n",
       "      <th>medical_products</th>\n",
       "      <td>471</td>\n",
       "      <td>793</td>\n",
       "      <td>49</td>\n",
       "    </tr>\n",
       "    <tr>\n",
       "      <th>search_and_rescue</th>\n",
       "      <td>216</td>\n",
       "      <td>441</td>\n",
       "      <td>67</td>\n",
       "    </tr>\n",
       "    <tr>\n",
       "      <th>security</th>\n",
       "      <td>131</td>\n",
       "      <td>292</td>\n",
       "      <td>48</td>\n",
       "    </tr>\n",
       "    <tr>\n",
       "      <th>military</th>\n",
       "      <td>46</td>\n",
       "      <td>801</td>\n",
       "      <td>13</td>\n",
       "    </tr>\n",
       "    <tr>\n",
       "      <th>child_alone</th>\n",
       "      <td>0</td>\n",
       "      <td>0</td>\n",
       "      <td>0</td>\n",
       "    </tr>\n",
       "    <tr>\n",
       "      <th>water</th>\n",
       "      <td>836</td>\n",
       "      <td>790</td>\n",
       "      <td>46</td>\n",
       "    </tr>\n",
       "    <tr>\n",
       "      <th>food</th>\n",
       "      <td>1807</td>\n",
       "      <td>1007</td>\n",
       "      <td>109</td>\n",
       "    </tr>\n",
       "    <tr>\n",
       "      <th>shelter</th>\n",
       "      <td>1152</td>\n",
       "      <td>1113</td>\n",
       "      <td>49</td>\n",
       "    </tr>\n",
       "    <tr>\n",
       "      <th>clothing</th>\n",
       "      <td>247</td>\n",
       "      <td>135</td>\n",
       "      <td>23</td>\n",
       "    </tr>\n",
       "    <tr>\n",
       "      <th>money</th>\n",
       "      <td>148</td>\n",
       "      <td>381</td>\n",
       "      <td>75</td>\n",
       "    </tr>\n",
       "    <tr>\n",
       "      <th>missing_people</th>\n",
       "      <td>86</td>\n",
       "      <td>165</td>\n",
       "      <td>47</td>\n",
       "    </tr>\n",
       "    <tr>\n",
       "      <th>refugees</th>\n",
       "      <td>174</td>\n",
       "      <td>666</td>\n",
       "      <td>35</td>\n",
       "    </tr>\n",
       "    <tr>\n",
       "      <th>death</th>\n",
       "      <td>254</td>\n",
       "      <td>858</td>\n",
       "      <td>82</td>\n",
       "    </tr>\n",
       "    <tr>\n",
       "      <th>other_aid</th>\n",
       "      <td>1575</td>\n",
       "      <td>1563</td>\n",
       "      <td>308</td>\n",
       "    </tr>\n",
       "    <tr>\n",
       "      <th>infrastructure_related</th>\n",
       "      <td>327</td>\n",
       "      <td>1230</td>\n",
       "      <td>148</td>\n",
       "    </tr>\n",
       "    <tr>\n",
       "      <th>transport</th>\n",
       "      <td>210</td>\n",
       "      <td>872</td>\n",
       "      <td>119</td>\n",
       "    </tr>\n",
       "    <tr>\n",
       "      <th>buildings</th>\n",
       "      <td>391</td>\n",
       "      <td>829</td>\n",
       "      <td>113</td>\n",
       "    </tr>\n",
       "    <tr>\n",
       "      <th>electricity</th>\n",
       "      <td>81</td>\n",
       "      <td>327</td>\n",
       "      <td>124</td>\n",
       "    </tr>\n",
       "    <tr>\n",
       "      <th>tools</th>\n",
       "      <td>33</td>\n",
       "      <td>114</td>\n",
       "      <td>12</td>\n",
       "    </tr>\n",
       "    <tr>\n",
       "      <th>hospitals</th>\n",
       "      <td>54</td>\n",
       "      <td>202</td>\n",
       "      <td>27</td>\n",
       "    </tr>\n",
       "    <tr>\n",
       "      <th>shops</th>\n",
       "      <td>33</td>\n",
       "      <td>68</td>\n",
       "      <td>19</td>\n",
       "    </tr>\n",
       "    <tr>\n",
       "      <th>aid_centers</th>\n",
       "      <td>78</td>\n",
       "      <td>218</td>\n",
       "      <td>13</td>\n",
       "    </tr>\n",
       "    <tr>\n",
       "      <th>other_infrastructure</th>\n",
       "      <td>186</td>\n",
       "      <td>866</td>\n",
       "      <td>99</td>\n",
       "    </tr>\n",
       "    <tr>\n",
       "      <th>weather_related</th>\n",
       "      <td>1521</td>\n",
       "      <td>4280</td>\n",
       "      <td>1496</td>\n",
       "    </tr>\n",
       "    <tr>\n",
       "      <th>floods</th>\n",
       "      <td>304</td>\n",
       "      <td>1747</td>\n",
       "      <td>104</td>\n",
       "    </tr>\n",
       "    <tr>\n",
       "      <th>storm</th>\n",
       "      <td>315</td>\n",
       "      <td>1445</td>\n",
       "      <td>683</td>\n",
       "    </tr>\n",
       "    <tr>\n",
       "      <th>fire</th>\n",
       "      <td>41</td>\n",
       "      <td>225</td>\n",
       "      <td>16</td>\n",
       "    </tr>\n",
       "    <tr>\n",
       "      <th>earthquake</th>\n",
       "      <td>796</td>\n",
       "      <td>910</td>\n",
       "      <td>749</td>\n",
       "    </tr>\n",
       "    <tr>\n",
       "      <th>cold</th>\n",
       "      <td>63</td>\n",
       "      <td>415</td>\n",
       "      <td>52</td>\n",
       "    </tr>\n",
       "    <tr>\n",
       "      <th>other_weather</th>\n",
       "      <td>207</td>\n",
       "      <td>1052</td>\n",
       "      <td>117</td>\n",
       "    </tr>\n",
       "    <tr>\n",
       "      <th>direct_report</th>\n",
       "      <td>3613</td>\n",
       "      <td>852</td>\n",
       "      <td>610</td>\n",
       "    </tr>\n",
       "  </tbody>\n",
       "</table>\n",
       "</div>"
      ],
      "text/plain": [
       "genre                   direct   news  social\n",
       "related                   7446  10707    2129\n",
       "request                   3696    604     174\n",
       "offer                       46     65       7\n",
       "aid_related               4338   5860     662\n",
       "medical_help               592   1415      77\n",
       "medical_products           471    793      49\n",
       "search_and_rescue          216    441      67\n",
       "security                   131    292      48\n",
       "military                    46    801      13\n",
       "child_alone                  0      0       0\n",
       "water                      836    790      46\n",
       "food                      1807   1007     109\n",
       "shelter                   1152   1113      49\n",
       "clothing                   247    135      23\n",
       "money                      148    381      75\n",
       "missing_people              86    165      47\n",
       "refugees                   174    666      35\n",
       "death                      254    858      82\n",
       "other_aid                 1575   1563     308\n",
       "infrastructure_related     327   1230     148\n",
       "transport                  210    872     119\n",
       "buildings                  391    829     113\n",
       "electricity                 81    327     124\n",
       "tools                       33    114      12\n",
       "hospitals                   54    202      27\n",
       "shops                       33     68      19\n",
       "aid_centers                 78    218      13\n",
       "other_infrastructure       186    866      99\n",
       "weather_related           1521   4280    1496\n",
       "floods                     304   1747     104\n",
       "storm                      315   1445     683\n",
       "fire                        41    225      16\n",
       "earthquake                 796    910     749\n",
       "cold                        63    415      52\n",
       "other_weather              207   1052     117\n",
       "direct_report             3613    852     610"
      ]
     },
     "execution_count": 8,
     "metadata": {},
     "output_type": "execute_result"
    }
   ],
   "source": [
    "titles = list(df)[4:]\n",
    "titles_dist = df.groupby('genre').sum()[titles].T\n",
    "titles_dist"
   ]
  },
  {
   "cell_type": "code",
   "execution_count": 9,
   "metadata": {
    "ExecuteTime": {
     "end_time": "2019-01-27T10:43:19.932958Z",
     "start_time": "2019-01-27T10:43:19.928969Z"
    }
   },
   "outputs": [],
   "source": [
    "x = titles_dist.index.tolist()\n",
    "direct = titles_dist.direct.tolist()\n",
    "news = titles_dist.news.tolist()\n",
    "social = titles_dist.social.tolist()"
   ]
  },
  {
   "cell_type": "code",
   "execution_count": 12,
   "metadata": {
    "ExecuteTime": {
     "end_time": "2019-01-27T10:45:33.077746Z",
     "start_time": "2019-01-27T10:45:33.073758Z"
    }
   },
   "outputs": [
    {
     "data": {
      "text/plain": [
       "['Related',\n",
       " 'Request',\n",
       " 'Offer',\n",
       " 'Aid related',\n",
       " 'Medical help',\n",
       " 'Medical products',\n",
       " 'Search and rescue',\n",
       " 'Security',\n",
       " 'Military',\n",
       " 'Child alone',\n",
       " 'Water',\n",
       " 'Food',\n",
       " 'Shelter',\n",
       " 'Clothing',\n",
       " 'Money',\n",
       " 'Missing people',\n",
       " 'Refugees',\n",
       " 'Death',\n",
       " 'Other aid',\n",
       " 'Infrastructure related',\n",
       " 'Transport',\n",
       " 'Buildings',\n",
       " 'Electricity',\n",
       " 'Tools',\n",
       " 'Hospitals',\n",
       " 'Shops',\n",
       " 'Aid centers',\n",
       " 'Other infrastructure',\n",
       " 'Weather related',\n",
       " 'Floods',\n",
       " 'Storm',\n",
       " 'Fire',\n",
       " 'Earthquake',\n",
       " 'Cold',\n",
       " 'Other weather',\n",
       " 'Direct report']"
      ]
     },
     "execution_count": 12,
     "metadata": {},
     "output_type": "execute_result"
    }
   ],
   "source": [
    "[w.replace('_', ' ').capitalize() for w in x]"
   ]
  },
  {
   "cell_type": "code",
   "execution_count": 13,
   "metadata": {
    "ExecuteTime": {
     "end_time": "2019-01-27T10:45:33.246324Z",
     "start_time": "2019-01-27T10:45:33.241339Z"
    }
   },
   "outputs": [],
   "source": [
    "trace1 = {\n",
    "    \"x\": [\n",
    "        \"January\", \"February\", \"March\", \"April\", \"May\", \"June\", \"July\",\n",
    "        \"August\", \"September\", \"October\", \"November\", \"December\"\n",
    "    ],\n",
    "    \"y\": [\n",
    "        \"118620.3669901852\", \"111920.78198366033\", \"156675.24767431594\",\n",
    "        \"120697.95692292189\", \"188212.02432054756\", \"90595.7191471862\",\n",
    "        \"85561.4580579648\", \"140031.449707742\", \"134994.56606117042\",\n",
    "        \"133277.31550833542\", \"114607.3297330865\", \"128302.84872669591\"\n",
    "    ],\n",
    "}\n",
    "trace2 = {\n",
    "    \"x\": [\n",
    "        \"January\", \"February\", \"March\", \"April\", \"May\", \"June\", \"July\",\n",
    "        \"August\", \"September\", \"October\", \"November\", \"December\"\n",
    "    ],\n",
    "    \"y\": [\n",
    "        \"93645.753345334\", \"42083.1287738599\", \"105263.157894737\",\n",
    "        \"87839.9358837179\", \"85702.0271319292\", \"111071.073402233\",\n",
    "        \"84042.9973522659\", \"67567.5675675676\", \"65077.1871079279\",\n",
    "        \"109059.571914719\", \"79304.036220664\", \"82979.2880910716\"\n",
    "    ],\n",
    "}"
   ]
  },
  {
   "cell_type": "code",
   "execution_count": 26,
   "metadata": {
    "ExecuteTime": {
     "end_time": "2019-01-27T09:06:58.159654Z",
     "start_time": "2019-01-27T09:06:56.698017Z"
    }
   },
   "outputs": [],
   "source": [
    "data = plotly.graph_objs.Data([trace1, trace2])\n",
    "fig = plotly.graph_objs.Figure(data=data)\n"
   ]
  },
  {
   "cell_type": "code",
   "execution_count": 27,
   "metadata": {
    "ExecuteTime": {
     "end_time": "2019-01-27T09:07:37.461745Z",
     "start_time": "2019-01-27T09:07:37.456759Z"
    }
   },
   "outputs": [
    {
     "data": {
      "text/plain": [
       "Figure({\n",
       "    'data': [{'type': 'scatter',\n",
       "              'uid': '1d127ea4-4891-4ab4-b2ec-e733d67d855d',\n",
       "              'x': [January, February, March, April, May, June, July, August,\n",
       "                    September, October, November, December],\n",
       "              'y': [118620.3669901852, 111920.78198366033, 156675.24767431594,\n",
       "                    120697.95692292189, 188212.02432054756, 90595.7191471862,\n",
       "                    85561.4580579648, 140031.449707742, 134994.56606117042,\n",
       "                    133277.31550833542, 114607.3297330865, 128302.84872669591]},\n",
       "             {'type': 'scatter',\n",
       "              'uid': '23b3e25d-8cb5-484e-b4e0-704ede69e421',\n",
       "              'x': [January, February, March, April, May, June, July, August,\n",
       "                    September, October, November, December],\n",
       "              'y': [93645.753345334, 42083.1287738599, 105263.157894737,\n",
       "                    87839.9358837179, 85702.0271319292, 111071.073402233,\n",
       "                    84042.9973522659, 67567.5675675676, 65077.1871079279,\n",
       "                    109059.571914719, 79304.036220664, 82979.2880910716]}],\n",
       "    'layout': {}\n",
       "})"
      ]
     },
     "execution_count": 27,
     "metadata": {},
     "output_type": "execute_result"
    }
   ],
   "source": [
    "fig"
   ]
  },
  {
   "cell_type": "code",
   "execution_count": 30,
   "metadata": {
    "ExecuteTime": {
     "end_time": "2019-01-27T09:10:43.562553Z",
     "start_time": "2019-01-27T09:10:42.197274Z"
    }
   },
   "outputs": [],
   "source": [
    "plotly.plotly.sign_in('drnesr', '8nFyS98Cudnbt3ofo0jA')"
   ]
  },
  {
   "cell_type": "code",
   "execution_count": 31,
   "metadata": {
    "ExecuteTime": {
     "end_time": "2019-01-27T09:10:46.742888Z",
     "start_time": "2019-01-27T09:10:45.081415Z"
    }
   },
   "outputs": [
    {
     "name": "stdout",
     "output_type": "stream",
     "text": [
      "High five! You successfully sent some data to your account on plotly. View your plot in your browser at https://plot.ly/~drnesr/0 or inside your plot.ly account where it is named 'plot from API'\n"
     ]
    },
    {
     "data": {
      "text/plain": [
       "'https://plot.ly/~drnesr/0'"
      ]
     },
     "execution_count": 31,
     "metadata": {},
     "output_type": "execute_result"
    }
   ],
   "source": [
    "plotly.plotly.plot(fig)"
   ]
  },
  {
   "cell_type": "code",
   "execution_count": 32,
   "metadata": {
    "ExecuteTime": {
     "end_time": "2019-01-27T09:13:57.659716Z",
     "start_time": "2019-01-27T09:13:57.645753Z"
    }
   },
   "outputs": [],
   "source": [
    "titles_dist.to_csv('nesr_keywords.CSV')"
   ]
  },
  {
   "cell_type": "code",
   "execution_count": null,
   "metadata": {},
   "outputs": [],
   "source": []
  }
 ],
 "metadata": {
  "kernelspec": {
   "display_name": "Python 3",
   "language": "python",
   "name": "python3"
  },
  "language_info": {
   "codemirror_mode": {
    "name": "ipython",
    "version": 3
   },
   "file_extension": ".py",
   "mimetype": "text/x-python",
   "name": "python",
   "nbconvert_exporter": "python",
   "pygments_lexer": "ipython3",
   "version": "3.7.1"
  }
 },
 "nbformat": 4,
 "nbformat_minor": 2
}
