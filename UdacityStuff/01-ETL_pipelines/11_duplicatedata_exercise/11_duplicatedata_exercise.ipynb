{
 "cells": [
  {
   "cell_type": "markdown",
   "metadata": {},
   "source": [
    "# Duplicate Data\n",
    "\n",
    "A data set might have duplicate data: in other words, the same record is represented multiple times. Sometimes, it's easy to find and eliminate duplicate data like when two records are exactly the same. At other times, like what was discussed in the video, duplicate data is hard to spot. \n",
    "\n",
    "# Exercise 1\n",
    "\n",
    "From the World Bank GDP data, count the number of countries that have had a project totalamt greater than 1 billion dollars (1,000,000,000). To get the count, you'll have to remove duplicate data rows."
   ]
  },
  {
   "cell_type": "code",
   "execution_count": 1,
   "metadata": {},
   "outputs": [],
   "source": [
    "import pandas as pd\n",
    "\n",
    "# read in the projects data set and do some basic wrangling \n",
    "projects = pd.read_csv('../data/projects_data.csv', dtype=str)\n",
    "projects.drop('Unnamed: 56', axis=1, inplace=True)\n",
    "projects['totalamt'] = pd.to_numeric(projects['totalamt'].str.replace(',', ''))\n",
    "projects['countryname'] = projects['countryname'].str.split(';', expand=True)[0]\n",
    "projects['boardapprovaldate'] = pd.to_datetime(projects['boardapprovaldate'])\n",
    "\n",
    "# TODO: filter the data frame for projects over 1 billion dollars\n",
    "# TODO: count the number of unique countries in the results"
   ]
  },
  {
   "cell_type": "code",
   "execution_count": 7,
   "metadata": {},
   "outputs": [
    {
     "name": "stdout",
     "output_type": "stream",
     "text": [
      "There are 17 countries with >1 bilion $ projects. The countries are:\n",
      "['Arab Republic of Egypt' 'Republic of Iraq' 'Republic of Peru'\n",
      " 'Republic of India' 'Romania' 'Republic of Poland' 'Republic of Indonesia'\n",
      " 'Republic of Kazakhstan' \"People's Republic of Bangladesh\"\n",
      " 'United Mexican States' 'Federative Republic of Brazil'\n",
      " 'Republic of South Africa' 'Republic of Turkey' 'Hungary'\n",
      " 'Argentine Republic' 'Republic of Korea' 'Russian Federation']\n"
     ]
    }
   ],
   "source": [
    "bil_countries = projects[projects['totalamt']>1000000000].countryname.unique()\n",
    "print(f'There are {len(bil_countries)} countries with >1 bilion $ projects. The countries are:\\n{bil_countries}')"
   ]
  },
  {
   "cell_type": "markdown",
   "metadata": {},
   "source": [
    "# Exercise 2 (challenge)\n",
    "\n",
    "This exercise is more challenging. The projects data set contains data about Yugoslavia, which was an Eastern European country until 1992. Yugoslavia eventually broke up into 7 countries: Bosnia and Herzegovina, Croatia, Kosovo, Macedonia, Montenegro, Serbia, and Slovenia.\n",
    "\n",
    "But the projects dataset has some ambiguity in how it treats Yugoslavia and the 7 countries that came from Yugoslavia. Your task is to find Yugoslavia projects that are probably represented multiple times in the data set."
   ]
  },
  {
   "cell_type": "code",
   "execution_count": 11,
   "metadata": {},
   "outputs": [
    {
     "name": "stdout",
     "output_type": "stream",
     "text": [
      "['Socialist Federal Republic of Yugoslavia']\n"
     ]
    },
    {
     "data": {
      "text/plain": [
       "(90, 56)"
      ]
     },
     "execution_count": 11,
     "metadata": {},
     "output_type": "execute_result"
    }
   ],
   "source": [
    "# TODO: output all projects for the 'Socialist Federal Republic of Yugoslavia'\n",
    "# HINT: You can use the exact country name or use the pandas str.contains() method to search for Yugoslavia\n",
    "print(projects[projects.countryname.str.contains('slavia')].countryname.unique())\n",
    "yogo_projs = projects[projects.countryname.str.contains('slavia')]\n",
    "yogo_projs.shape"
   ]
  },
  {
   "cell_type": "markdown",
   "metadata": {},
   "source": [
    "Yugoslavia officially ended on [April 27th, 1992](https://en.wikipedia.org/wiki/Yugoslavia). \n",
    "\n",
    "In the code cell below, filter for projects with a 'boardapprovaldate' prior to April 27th, 1992 **and** with 'countryname' Bosnia and Herzegovina, Croatia, Kosovo, Macedonia, Serbia **or** Slovenia. You'll see there are a total of 12 projects in the data set that match this criteria. Save the results in the republics variable"
   ]
  },
  {
   "cell_type": "code",
   "execution_count": 22,
   "metadata": {
    "scrolled": true
   },
   "outputs": [
    {
     "name": "stdout",
     "output_type": "stream",
     "text": [
      "Total number of projects:  168\n"
     ]
    },
    {
     "data": {
      "text/html": [
       "<div>\n",
       "<style>\n",
       "    .dataframe thead tr:only-child th {\n",
       "        text-align: right;\n",
       "    }\n",
       "\n",
       "    .dataframe thead th {\n",
       "        text-align: left;\n",
       "    }\n",
       "\n",
       "    .dataframe tbody tr th {\n",
       "        vertical-align: top;\n",
       "    }\n",
       "</style>\n",
       "<table border=\"1\" class=\"dataframe\">\n",
       "  <thead>\n",
       "    <tr style=\"text-align: right;\">\n",
       "      <th></th>\n",
       "      <th>id</th>\n",
       "      <th>regionname</th>\n",
       "      <th>countryname</th>\n",
       "      <th>prodline</th>\n",
       "      <th>lendinginstr</th>\n",
       "      <th>lendinginstrtype</th>\n",
       "      <th>envassesmentcategorycode</th>\n",
       "      <th>supplementprojectflg</th>\n",
       "      <th>productlinetype</th>\n",
       "      <th>projectstatusdisplay</th>\n",
       "      <th>...</th>\n",
       "      <th>mjtheme2name</th>\n",
       "      <th>mjtheme3name</th>\n",
       "      <th>mjtheme4name</th>\n",
       "      <th>mjtheme5name</th>\n",
       "      <th>location</th>\n",
       "      <th>GeoLocID</th>\n",
       "      <th>GeoLocName</th>\n",
       "      <th>Latitude</th>\n",
       "      <th>Longitude</th>\n",
       "      <th>Country</th>\n",
       "    </tr>\n",
       "  </thead>\n",
       "  <tbody>\n",
       "    <tr>\n",
       "      <th>295</th>\n",
       "      <td>P161122</td>\n",
       "      <td>Europe and Central Asia</td>\n",
       "      <td>Bosnia and Herzegovina</td>\n",
       "      <td>PE</td>\n",
       "      <td>Investment Project Financing</td>\n",
       "      <td>IN</td>\n",
       "      <td>B</td>\n",
       "      <td>N</td>\n",
       "      <td>L</td>\n",
       "      <td>Active</td>\n",
       "      <td>...</td>\n",
       "      <td>NaN</td>\n",
       "      <td>NaN</td>\n",
       "      <td>NaN</td>\n",
       "      <td>NaN</td>\n",
       "      <td>0003204541!$!Banja Luka!$!44.77842!$!17.19386!...</td>\n",
       "      <td>0003204541;0003230000;0003294894</td>\n",
       "      <td>Banja Luka;Republika Srpska;Doboj</td>\n",
       "      <td>44.77842;44.73333;44.75944</td>\n",
       "      <td>17.19386;17.4;18.065</td>\n",
       "      <td>BA;BA;BA</td>\n",
       "    </tr>\n",
       "    <tr>\n",
       "      <th>383</th>\n",
       "      <td>P158585</td>\n",
       "      <td>Europe and Central Asia</td>\n",
       "      <td>Bosnia and Herzegovina</td>\n",
       "      <td>RE</td>\n",
       "      <td>Investment Project Financing</td>\n",
       "      <td>IN</td>\n",
       "      <td>C</td>\n",
       "      <td>N</td>\n",
       "      <td>L</td>\n",
       "      <td>Active</td>\n",
       "      <td>...</td>\n",
       "      <td>NaN</td>\n",
       "      <td>NaN</td>\n",
       "      <td>NaN</td>\n",
       "      <td>NaN</td>\n",
       "      <td>0003229999!$!Federation of Bosnia and Herzegov...</td>\n",
       "      <td>0003229999;0003230000;0003277605;0003294903</td>\n",
       "      <td>Federation of Bosnia and Herzegovina;Republic ...</td>\n",
       "      <td>44;44.93333;44.25;44.83333</td>\n",
       "      <td>17.58333;17.18333;17.83333;18.83333</td>\n",
       "      <td>BA;BA;BA;BA</td>\n",
       "    </tr>\n",
       "  </tbody>\n",
       "</table>\n",
       "<p>2 rows × 56 columns</p>\n",
       "</div>"
      ],
      "text/plain": [
       "          id               regionname             countryname prodline  \\\n",
       "295  P161122  Europe and Central Asia  Bosnia and Herzegovina       PE   \n",
       "383  P158585  Europe and Central Asia  Bosnia and Herzegovina       RE   \n",
       "\n",
       "                     lendinginstr lendinginstrtype envassesmentcategorycode  \\\n",
       "295  Investment Project Financing               IN                        B   \n",
       "383  Investment Project Financing               IN                        C   \n",
       "\n",
       "    supplementprojectflg productlinetype projectstatusdisplay     ...       \\\n",
       "295                    N               L               Active     ...        \n",
       "383                    N               L               Active     ...        \n",
       "\n",
       "    mjtheme2name mjtheme3name mjtheme4name mjtheme5name  \\\n",
       "295          NaN          NaN          NaN          NaN   \n",
       "383          NaN          NaN          NaN          NaN   \n",
       "\n",
       "                                              location  \\\n",
       "295  0003204541!$!Banja Luka!$!44.77842!$!17.19386!...   \n",
       "383  0003229999!$!Federation of Bosnia and Herzegov...   \n",
       "\n",
       "                                        GeoLocID  \\\n",
       "295             0003204541;0003230000;0003294894   \n",
       "383  0003229999;0003230000;0003277605;0003294903   \n",
       "\n",
       "                                            GeoLocName  \\\n",
       "295                  Banja Luka;Republika Srpska;Doboj   \n",
       "383  Federation of Bosnia and Herzegovina;Republic ...   \n",
       "\n",
       "                       Latitude                            Longitude  \\\n",
       "295  44.77842;44.73333;44.75944                 17.19386;17.4;18.065   \n",
       "383  44;44.93333;44.25;44.83333  17.58333;17.18333;17.83333;18.83333   \n",
       "\n",
       "         Country  \n",
       "295     BA;BA;BA  \n",
       "383  BA;BA;BA;BA  \n",
       "\n",
       "[2 rows x 56 columns]"
      ]
     },
     "execution_count": 22,
     "metadata": {},
     "output_type": "execute_result"
    }
   ],
   "source": [
    "new_yog_data = projects.countryname.isin(['Bosnia and Herzegovina', 'Croatia', 'Kosovo', 'Macedonia', 'Serbia', 'Sovenia'])\n",
    "# .boardapprovaldate < pd.datetime(1992, 4, 27)\n",
    "print('Total number of projects: ', new_yog_data.sum())\n",
    "new_yog_df = projects[new_yog_data]\n",
    "new_yog_df.head(2)"
   ]
  },
  {
   "cell_type": "code",
   "execution_count": 27,
   "metadata": {},
   "outputs": [
    {
     "data": {
      "text/html": [
       "<div>\n",
       "<style>\n",
       "    .dataframe thead tr:only-child th {\n",
       "        text-align: right;\n",
       "    }\n",
       "\n",
       "    .dataframe thead th {\n",
       "        text-align: left;\n",
       "    }\n",
       "\n",
       "    .dataframe tbody tr th {\n",
       "        vertical-align: top;\n",
       "    }\n",
       "</style>\n",
       "<table border=\"1\" class=\"dataframe\">\n",
       "  <thead>\n",
       "    <tr style=\"text-align: right;\">\n",
       "      <th></th>\n",
       "      <th>regionname</th>\n",
       "      <th>countryname</th>\n",
       "      <th>lendinginstr</th>\n",
       "      <th>totalamt</th>\n",
       "      <th>boardapprovaldate</th>\n",
       "      <th>location</th>\n",
       "      <th>GeoLocID</th>\n",
       "      <th>GeoLocName</th>\n",
       "      <th>Latitude</th>\n",
       "      <th>Longitude</th>\n",
       "      <th>Country</th>\n",
       "      <th>project_name</th>\n",
       "      <th>boardapprovaldate</th>\n",
       "    </tr>\n",
       "  </thead>\n",
       "  <tbody>\n",
       "    <tr>\n",
       "      <th>12063</th>\n",
       "      <td>Europe and Central Asia</td>\n",
       "      <td>Bosnia and Herzegovina</td>\n",
       "      <td>Sector Investment and Maintenance Loan</td>\n",
       "      <td>0</td>\n",
       "      <td>1987-10-13</td>\n",
       "      <td>NaN</td>\n",
       "      <td>NaN</td>\n",
       "      <td>NaN</td>\n",
       "      <td>NaN</td>\n",
       "      <td>NaN</td>\n",
       "      <td>NaN</td>\n",
       "      <td>HIGHWAY SECTOR II</td>\n",
       "      <td>1987-10-13</td>\n",
       "    </tr>\n",
       "    <tr>\n",
       "      <th>13048</th>\n",
       "      <td>Europe and Central Asia</td>\n",
       "      <td>Bosnia and Herzegovina</td>\n",
       "      <td>Specific Investment Loan</td>\n",
       "      <td>0</td>\n",
       "      <td>1983-07-26</td>\n",
       "      <td>NaN</td>\n",
       "      <td>NaN</td>\n",
       "      <td>NaN</td>\n",
       "      <td>NaN</td>\n",
       "      <td>NaN</td>\n",
       "      <td>NaN</td>\n",
       "      <td>POWER TRANS.III</td>\n",
       "      <td>1983-07-26</td>\n",
       "    </tr>\n",
       "    <tr>\n",
       "      <th>13050</th>\n",
       "      <td>Europe and Central Asia</td>\n",
       "      <td>Macedonia</td>\n",
       "      <td>Specific Investment Loan</td>\n",
       "      <td>0</td>\n",
       "      <td>1983-07-26</td>\n",
       "      <td>NaN</td>\n",
       "      <td>NaN</td>\n",
       "      <td>NaN</td>\n",
       "      <td>NaN</td>\n",
       "      <td>NaN</td>\n",
       "      <td>NaN</td>\n",
       "      <td>POWER TRANS.III</td>\n",
       "      <td>1983-07-26</td>\n",
       "    </tr>\n",
       "    <tr>\n",
       "      <th>13973</th>\n",
       "      <td>Europe and Central Asia</td>\n",
       "      <td>Macedonia</td>\n",
       "      <td>Specific Investment Loan</td>\n",
       "      <td>24000000</td>\n",
       "      <td>1980-02-01</td>\n",
       "      <td>NaN</td>\n",
       "      <td>NaN</td>\n",
       "      <td>NaN</td>\n",
       "      <td>NaN</td>\n",
       "      <td>NaN</td>\n",
       "      <td>NaN</td>\n",
       "      <td>Agriculture &amp; Agroindustry 2 Project (Macedonia)</td>\n",
       "      <td>1980-02-01</td>\n",
       "    </tr>\n",
       "  </tbody>\n",
       "</table>\n",
       "</div>"
      ],
      "text/plain": [
       "                    regionname             countryname  \\\n",
       "12063  Europe and Central Asia  Bosnia and Herzegovina   \n",
       "13048  Europe and Central Asia  Bosnia and Herzegovina   \n",
       "13050  Europe and Central Asia               Macedonia   \n",
       "13973  Europe and Central Asia               Macedonia   \n",
       "\n",
       "                                 lendinginstr  totalamt boardapprovaldate  \\\n",
       "12063  Sector Investment and Maintenance Loan         0        1987-10-13   \n",
       "13048                Specific Investment Loan         0        1983-07-26   \n",
       "13050                Specific Investment Loan         0        1983-07-26   \n",
       "13973                Specific Investment Loan  24000000        1980-02-01   \n",
       "\n",
       "      location GeoLocID GeoLocName Latitude Longitude Country  \\\n",
       "12063      NaN      NaN        NaN      NaN       NaN     NaN   \n",
       "13048      NaN      NaN        NaN      NaN       NaN     NaN   \n",
       "13050      NaN      NaN        NaN      NaN       NaN     NaN   \n",
       "13973      NaN      NaN        NaN      NaN       NaN     NaN   \n",
       "\n",
       "                                           project_name boardapprovaldate  \n",
       "12063                                 HIGHWAY SECTOR II        1987-10-13  \n",
       "13048                                   POWER TRANS.III        1983-07-26  \n",
       "13050                                   POWER TRANS.III        1983-07-26  \n",
       "13973  Agriculture & Agroindustry 2 Project (Macedonia)        1980-02-01  "
      ]
     },
     "execution_count": 27,
     "metadata": {},
     "output_type": "execute_result"
    }
   ],
   "source": [
    "filtered_df = new_yog_df[new_yog_df.boardapprovaldate <= pd.datetime(1992, 4, 27)]\n",
    "filtered_df[['regionname', 'countryname', 'lendinginstr', 'totalamt', \n",
    "             'boardapprovaldate', 'location', 'GeoLocID', 'GeoLocName', \n",
    "             'Latitude', 'Longitude', 'Country','project_name', 'boardapprovaldate']]"
   ]
  },
  {
   "cell_type": "code",
   "execution_count": 28,
   "metadata": {},
   "outputs": [
    {
     "data": {
      "text/plain": [
       "array(['1987-10-13T00:00:00.000000000', '1983-07-26T00:00:00.000000000',\n",
       "       '1980-02-01T00:00:00.000000000'], dtype='datetime64[ns]')"
      ]
     },
     "execution_count": 28,
     "metadata": {},
     "output_type": "execute_result"
    }
   ],
   "source": [
    "filtered_df.boardapprovaldate.unique()"
   ]
  },
  {
   "cell_type": "code",
   "execution_count": null,
   "metadata": {},
   "outputs": [],
   "source": [
    "import datetime\n",
    "\n",
    "# TODO: filter the projects data set for project boardapprovaldate prior to April 27th, 1992 AND with countryname\n",
    "#  of either 'Bosnia and Herzegovina', 'Croatia', 'Kosovo', 'Macedonia', 'Serbia', or 'Sovenia'. Store the\n",
    "#  results in the republics variable\n",
    "#\n",
    "#  TODO: so that it's easier to see all the data, keep only these columns:\n",
    "# ['regionname', 'countryname', 'lendinginstr', 'totalamt', 'boardapprovaldate',\n",
    "# 'location','GeoLocID', 'GeoLocName', 'Latitude','Longitude','Country', 'project_name']\n",
    "\n",
    "# TODO: sort the results by boardapprovaldate\n",
    "\n",
    "republics = None \n",
    "\n",
    "# show the results\n",
    "republics"
   ]
  },
  {
   "cell_type": "markdown",
   "metadata": {},
   "source": [
    "Are these projects also represented in the data labeled Yugoslavia? In the code cell below, filter for Yugoslavia projects approved between February 1st, 1980 and May 23rd, 1989 which are the minimum and maximum dates in the results above. Store the results in the yugoslavia variable.\n",
    "\n",
    "The goal is to see if there are any projects represented more than once in the data set."
   ]
  },
  {
   "cell_type": "code",
   "execution_count": null,
   "metadata": {},
   "outputs": [],
   "source": [
    "# TODO: Filter the projects data for Yugoslavia projects between\n",
    "# February 1st, 1980 and May 23rd, 1989. Store the results in the\n",
    "# Yugoslavia variable. Keep the same columns as the previous code cell.\n",
    "# Sort the values by boardapprovaldate\n",
    "\n",
    "yugoslavia = None \n",
    "\n",
    "# show the results\n",
    "yugoslavia"
   ]
  },
  {
   "cell_type": "markdown",
   "metadata": {},
   "source": [
    "And as a final step, try to see if there are any projects in the republics variable and yugoslavia variable that could be the same project.\n",
    "\n",
    "There are multiple ways to do that. As a suggestion, find unique dates in the republics variable. Then separately find unique dates in the yugoslavia variable. Concatenate (ie append) the results together. And then count the number of times each date occurs in this list. If a date occurs twice, that means the same boardapprovaldate appeared in both the Yugoslavia data as well as in the republics data.\n",
    "\n",
    "You'll should find that there are three suspicious cases:\n",
    "\n",
    "* July 26th, 1983\n",
    "* March 31st, 1987\n",
    "* October 13th, 1987"
   ]
  },
  {
   "cell_type": "code",
   "execution_count": null,
   "metadata": {},
   "outputs": [],
   "source": [
    "import numpy as np\n",
    "\n",
    "# TODO: find the unique dates in the republics variable\n",
    "republic_unique_dates = None\n",
    "\n",
    "# TODO: find the unique dates in the yugoslavia variable\n",
    "yugoslavia_unique_dates = None\n",
    "\n",
    "# TODO: make a list of the results appending one list to the other\n",
    "dates = None\n",
    "\n",
    "# TODO: print out the dates that appeared twice in the results"
   ]
  },
  {
   "cell_type": "markdown",
   "metadata": {},
   "source": [
    "# Conclusion\n",
    "\n",
    "On July 26th, 1983, for example, projects were approved for Bosnia and Herzegovina, Croatia, Macedonia, Slovenia, and Yugoslavia. The code below shows the projects for that date. You'll notice that Yugoslavia had two projects, one of which was called \"Power Transmission Project (03) Energy Managem...\". The projects in the other countries were all called \"POWER TRANS.III\". \n",
    "\n",
    "This looks like a case of duplicate data. What you end up doing with this knowledge would depend on the context. For example, if you wanted to get a true count for the total number of projects in the data set, should all of these projects be counted as one project? \n",
    "\n",
    "Run the code cell below to see the projects in question."
   ]
  },
  {
   "cell_type": "code",
   "execution_count": null,
   "metadata": {},
   "outputs": [],
   "source": [
    "import datetime\n",
    "\n",
    "# run this code cell to see the duplicate data\n",
    "pd.concat([yugoslavia[yugoslavia['boardapprovaldate'] == datetime.date(1983, 7, 26)], republics[republics['boardapprovaldate'] == datetime.date(1983, 7, 26)]])"
   ]
  },
  {
   "cell_type": "code",
   "execution_count": null,
   "metadata": {},
   "outputs": [],
   "source": []
  }
 ],
 "metadata": {
  "kernelspec": {
   "display_name": "Python 3",
   "language": "python",
   "name": "python3"
  },
  "language_info": {
   "codemirror_mode": {
    "name": "ipython",
    "version": 3
   },
   "file_extension": ".py",
   "mimetype": "text/x-python",
   "name": "python",
   "nbconvert_exporter": "python",
   "pygments_lexer": "ipython3",
   "version": "3.6.3"
  }
 },
 "nbformat": 4,
 "nbformat_minor": 2
}
